{
  "cells": [
    {
      "cell_type": "markdown",
      "metadata": {
        "id": "view-in-github",
        "colab_type": "text"
      },
      "source": [
        "<a href=\"https://colab.research.google.com/github/AshleyB1021/Home_Sales/blob/main/Home_Sales_starter_code_colab.ipynb\" target=\"_parent\"><img src=\"https://colab.research.google.com/assets/colab-badge.svg\" alt=\"Open In Colab\"/></a>"
      ]
    },
    {
      "cell_type": "code",
      "execution_count": 2,
      "metadata": {
        "colab": {
          "base_uri": "https://localhost:8080/"
        },
        "id": "a_KW73O2e3dw",
        "outputId": "c3e3c88a-11da-440b-e6c2-78ac8d69df56"
      },
      "outputs": [
        {
          "output_type": "stream",
          "name": "stdout",
          "text": [
            "\r0% [Working]\r            \rHit:1 http://security.ubuntu.com/ubuntu jammy-security InRelease\n",
            "\r0% [Connecting to archive.ubuntu.com] [Connected to cloud.r-project.org (108.157.162.43)] [Connectin\r                                                                                                    \rHit:2 https://developer.download.nvidia.com/compute/cuda/repos/ubuntu2204/x86_64  InRelease\n",
            "\r0% [Connecting to archive.ubuntu.com (185.125.190.39)] [Waiting for headers] [Connected to ppa.launc\r                                                                                                    \rHit:3 https://cloud.r-project.org/bin/linux/ubuntu jammy-cran40/ InRelease\n",
            "Hit:4 http://archive.ubuntu.com/ubuntu jammy InRelease\n",
            "Hit:5 http://archive.ubuntu.com/ubuntu jammy-updates InRelease\n",
            "Hit:6 https://ppa.launchpadcontent.net/c2d4u.team/c2d4u4.0+/ubuntu jammy InRelease\n",
            "Hit:7 http://archive.ubuntu.com/ubuntu jammy-backports InRelease\n",
            "Hit:8 https://ppa.launchpadcontent.net/deadsnakes/ppa/ubuntu jammy InRelease\n",
            "Hit:9 https://ppa.launchpadcontent.net/graphics-drivers/ppa/ubuntu jammy InRelease\n",
            "Hit:10 https://ppa.launchpadcontent.net/ubuntugis/ppa/ubuntu jammy InRelease\n",
            "Reading package lists... Done\n"
          ]
        }
      ],
      "source": [
        "import os\n",
        "# Find the latest version of spark 3.x  from http://www.apache.org/dist/spark/ and enter as the spark version\n",
        "# For example:\n",
        "# spark_version = 'spark-3.5.0'\n",
        "spark_version = 'spark-3.5.0'\n",
        "os.environ['SPARK_VERSION']=spark_version\n",
        "\n",
        "# Install Spark and Java\n",
        "!apt-get update\n",
        "!apt-get install openjdk-11-jdk-headless -qq > /dev/null\n",
        "!wget -q https://archive.apache.org/dist/spark/spark-3.5.0/spark-3.5.0-bin-hadoop3.tgz\n",
        "!tar xf $SPARK_VERSION-bin-hadoop3.tgz\n",
        "!pip install -q findspark\n",
        "\n",
        "# Set Environment Variables\n",
        "os.environ[\"JAVA_HOME\"] = \"/usr/lib/jvm/java-11-openjdk-amd64\"\n",
        "os.environ[\"SPARK_HOME\"] = f\"/content/{spark_version}-bin-hadoop3\"\n",
        "\n",
        "# Start a SparkSession\n",
        "import findspark\n",
        "findspark.init()"
      ]
    },
    {
      "cell_type": "code",
      "execution_count": 3,
      "metadata": {
        "id": "2XbWNf1Te5fM"
      },
      "outputs": [],
      "source": [
        "# Import packages\n",
        "from pyspark.sql import SparkSession\n",
        "import time\n",
        "\n",
        "# Create a SparkSession\n",
        "spark = SparkSession.builder.appName(\"SparkSQL\").getOrCreate()"
      ]
    },
    {
      "cell_type": "code",
      "execution_count": 4,
      "metadata": {
        "id": "wOJqxG_RPSwp"
      },
      "outputs": [],
      "source": [
        "# 1. Read in the AWS S3 bucket into a DataFrame.\n",
        "from pyspark import SparkFiles\n",
        "url = \"https://2u-data-curriculum-team.s3.amazonaws.com/dataviz-classroom/v1.2/22-big-data/home_sales_revised.csv\"\n",
        "\n"
      ]
    },
    {
      "cell_type": "code",
      "source": [
        "# Read the CSV file from AWS S3 bucket into a DataFrame\n",
        "spark.sparkContext.addFile(url)\n",
        "df = spark.read.csv(\"file://\"+SparkFiles.get(\"home_sales_revised.csv\"), header=True, inferSchema=True)\n"
      ],
      "metadata": {
        "id": "W4gc_wE1iQAm"
      },
      "execution_count": 6,
      "outputs": []
    },
    {
      "cell_type": "code",
      "execution_count": 7,
      "metadata": {
        "id": "RoljcJ7WPpnm"
      },
      "outputs": [],
      "source": [
        "# 2. Create a temporary view of the DataFrame.\n",
        "df.createOrReplaceTempView(\"home_sales\")\n"
      ]
    },
    {
      "cell_type": "code",
      "execution_count": 9,
      "metadata": {
        "id": "L6fkwOeOmqvq",
        "colab": {
          "base_uri": "https://localhost:8080/"
        },
        "outputId": "fc0a0d78-4907-4506-e56b-c868ac0b64eb"
      },
      "outputs": [
        {
          "output_type": "stream",
          "name": "stdout",
          "text": [
            "+----+-------------+\n",
            "|Year|Average_Price|\n",
            "+----+-------------+\n",
            "|2022|    296363.88|\n",
            "|2019|     300263.7|\n",
            "|2020|    298353.78|\n",
            "|2021|    301819.44|\n",
            "+----+-------------+\n",
            "\n"
          ]
        }
      ],
      "source": [
        "# 3. What is the average price for a four bedroom house sold in each year rounded to two decimal places?\n",
        "\n",
        "result = spark.sql(\"\"\"\n",
        "    SELECT YEAR(Date) AS Year, ROUND(AVG(Price), 2) AS Average_Price\n",
        "    FROM home_sales\n",
        "    WHERE Bedrooms = 4\n",
        "    GROUP BY YEAR(Date)\n",
        "\"\"\")\n",
        "\n",
        "# Show the result\n",
        "result.show()\n",
        "\n"
      ]
    },
    {
      "cell_type": "code",
      "execution_count": 11,
      "metadata": {
        "id": "l8p_tUS8h8it",
        "colab": {
          "base_uri": "https://localhost:8080/"
        },
        "outputId": "7ef73a85-f7b5-43f7-fa90-5be2076d86dd"
      },
      "outputs": [
        {
          "output_type": "stream",
          "name": "stdout",
          "text": [
            "+---------+-------------+\n",
            "|YearBuilt|Average_Price|\n",
            "+---------+-------------+\n",
            "|     2015|     288770.3|\n",
            "|     2013|    295962.27|\n",
            "|     2014|    290852.27|\n",
            "|     2012|    293683.19|\n",
            "|     2016|    290555.07|\n",
            "|     2010|    292859.62|\n",
            "|     2011|    291117.47|\n",
            "|     2017|    292676.79|\n",
            "+---------+-------------+\n",
            "\n"
          ]
        }
      ],
      "source": [
        "# 4. What is the average price of a home for each year the home was built that have 3 bedrooms and 3 bathrooms rounded to two decimal places?\n",
        "\n",
        "result = spark.sql(\"\"\"\n",
        "    SELECT date_built AS YearBuilt, ROUND(AVG(price), 2) AS Average_Price\n",
        "    FROM home_sales\n",
        "    WHERE bedrooms = 3 AND bathrooms = 3\n",
        "    GROUP BY date_built\n",
        "\"\"\")\n",
        "\n",
        "# Show the result\n",
        "result.show()\n",
        "\n",
        "\n"
      ]
    },
    {
      "cell_type": "code",
      "execution_count": 12,
      "metadata": {
        "id": "Y-Eytz64liDU",
        "colab": {
          "base_uri": "https://localhost:8080/"
        },
        "outputId": "9eb2a9f1-f767-4b65-a834-d014abb51495"
      },
      "outputs": [
        {
          "output_type": "stream",
          "name": "stdout",
          "text": [
            "+---------+-------------+\n",
            "|YearBuilt|Average_Price|\n",
            "+---------+-------------+\n",
            "|     2015|    297609.97|\n",
            "|     2013|    303676.79|\n",
            "|     2014|    298264.72|\n",
            "|     2012|    307539.97|\n",
            "|     2016|     293965.1|\n",
            "|     2010|    285010.22|\n",
            "|     2011|    276553.81|\n",
            "|     2017|    280317.58|\n",
            "+---------+-------------+\n",
            "\n"
          ]
        }
      ],
      "source": [
        "# 5. What is the average price of a home for each year built that have 3 bedrooms, 3 bathrooms, with two floors,\n",
        "# and are greater than or equal to 2,000 square feet rounded to two decimal places?\n",
        "\n",
        "result = spark.sql(\"\"\"\n",
        "    SELECT date_built AS YearBuilt, ROUND(AVG(price), 2) AS Average_Price\n",
        "    FROM home_sales\n",
        "    WHERE bedrooms = 3\n",
        "      AND bathrooms = 3\n",
        "      AND floors = 2\n",
        "      AND sqft_living >= 2000\n",
        "    GROUP BY date_built\n",
        "\"\"\")\n",
        "\n",
        "# Show the result\n",
        "result.show()\n",
        "\n"
      ]
    },
    {
      "cell_type": "code",
      "execution_count": 13,
      "metadata": {
        "colab": {
          "base_uri": "https://localhost:8080/"
        },
        "id": "GUrfgOX1pCRd",
        "outputId": "3cc72f73-e2da-4e6a-a2d4-301430254d03"
      },
      "outputs": [
        {
          "output_type": "stream",
          "name": "stdout",
          "text": [
            "+-----------+-------------+\n",
            "|View_Rating|Average_Price|\n",
            "+-----------+-------------+\n",
            "|         31|    399856.95|\n",
            "|         85|   1056336.74|\n",
            "|         65|    736679.93|\n",
            "|         53|     755214.8|\n",
            "|         78|   1080649.37|\n",
            "|         34|    401419.75|\n",
            "|         81|   1053472.79|\n",
            "|         28|    402124.62|\n",
            "|         76|   1058802.78|\n",
            "|         26|    401506.97|\n",
            "|         27|    399537.66|\n",
            "|         44|    400598.05|\n",
            "|         12|    401501.32|\n",
            "|         91|   1137372.73|\n",
            "|         22|    402022.68|\n",
            "|         93|   1026006.06|\n",
            "|         47|     398447.5|\n",
            "|          1|    401044.25|\n",
            "|         52|    733780.26|\n",
            "|         13|    398917.98|\n",
            "+-----------+-------------+\n",
            "only showing top 20 rows\n",
            "\n",
            "--- 0.8932285308837891 seconds ---\n"
          ]
        }
      ],
      "source": [
        "# 6. What is the \"view\" rating for the average price of a home, rounded to two decimal places, where the homes are greater than\n",
        "# or equal to $350,000? Although this is a small dataset, determine the run time for this query.\n",
        "\n",
        "start_time = time.time()\n",
        "\n",
        "result = spark.sql(\"\"\"\n",
        "    SELECT view AS View_Rating, ROUND(AVG(price), 2) AS Average_Price\n",
        "    FROM home_sales\n",
        "    WHERE price >= 350000\n",
        "    GROUP BY view\n",
        "\"\"\")\n",
        "\n",
        "# Show the result\n",
        "result.show()\n",
        "\n",
        "\n",
        "\n",
        "print(\"--- %s seconds ---\" % (time.time() - start_time))"
      ]
    },
    {
      "cell_type": "code",
      "execution_count": 14,
      "metadata": {
        "id": "KAhk3ZD2tFy8"
      },
      "outputs": [],
      "source": [
        "# 7. Cache the the temporary table home_sales.\n",
        "spark.catalog.cacheTable(\"home_sales\")"
      ]
    },
    {
      "cell_type": "code",
      "execution_count": 15,
      "metadata": {
        "id": "4opVhbvxtL-i",
        "colab": {
          "base_uri": "https://localhost:8080/"
        },
        "outputId": "1d8ecc4e-4537-4f72-c3a5-e67748f349dd"
      },
      "outputs": [
        {
          "output_type": "execute_result",
          "data": {
            "text/plain": [
              "True"
            ]
          },
          "metadata": {},
          "execution_count": 15
        }
      ],
      "source": [
        "# 8. Check if the table is cached.\n",
        "spark.catalog.isCached('home_sales')"
      ]
    },
    {
      "cell_type": "code",
      "execution_count": 16,
      "metadata": {
        "colab": {
          "base_uri": "https://localhost:8080/"
        },
        "id": "5GnL46lwTSEk",
        "outputId": "7d3b9caf-0229-464b-8e94-9dd57d348cb2"
      },
      "outputs": [
        {
          "output_type": "stream",
          "name": "stdout",
          "text": [
            "+-----------+-------------+\n",
            "|View_Rating|Average_Price|\n",
            "+-----------+-------------+\n",
            "|         31|    399856.95|\n",
            "|         85|   1056336.74|\n",
            "|         65|    736679.93|\n",
            "|         53|     755214.8|\n",
            "|         78|   1080649.37|\n",
            "|         34|    401419.75|\n",
            "|         81|   1053472.79|\n",
            "|         28|    402124.62|\n",
            "|         76|   1058802.78|\n",
            "|         26|    401506.97|\n",
            "|         27|    399537.66|\n",
            "|         44|    400598.05|\n",
            "|         12|    401501.32|\n",
            "|         91|   1137372.73|\n",
            "|         22|    402022.68|\n",
            "|         93|   1026006.06|\n",
            "|         47|     398447.5|\n",
            "|          1|    401044.25|\n",
            "|         52|    733780.26|\n",
            "|         13|    398917.98|\n",
            "+-----------+-------------+\n",
            "only showing top 20 rows\n",
            "\n",
            "--- 2.547231912612915 seconds ---\n"
          ]
        }
      ],
      "source": [
        "# 9. Using the cached data, run the query that filters out the view ratings with average price\n",
        "#  greater than or equal to $350,000. Determine the runtime and compare it to uncached runtime.\n",
        "\n",
        "start_time = time.time()\n",
        "\n",
        "result_cached = spark.sql(\"\"\"\n",
        "    SELECT view AS View_Rating, ROUND(AVG(price), 2) AS Average_Price\n",
        "    FROM home_sales\n",
        "    WHERE price >= 350000\n",
        "    GROUP BY view\n",
        "\"\"\")\n",
        "\n",
        "# Show the result\n",
        "result_cached.show()\n",
        "\n",
        "\n",
        "print(\"--- %s seconds ---\" % (time.time() - start_time))\n"
      ]
    },
    {
      "cell_type": "code",
      "execution_count": 17,
      "metadata": {
        "id": "Qm12WN9isHBR"
      },
      "outputs": [],
      "source": [
        "# 10. Partition by the \"date_built\" field on the formatted parquet home sales data\n",
        "df.write.partitionBy(\"date_built\").parquet(\"path/to/partitioned_parquet_data\")"
      ]
    },
    {
      "cell_type": "code",
      "execution_count": 18,
      "metadata": {
        "id": "AZ7BgY61sRqY",
        "colab": {
          "base_uri": "https://localhost:8080/"
        },
        "outputId": "24bb958a-9d59-41ac-db72-30d25efb054f"
      },
      "outputs": [
        {
          "output_type": "stream",
          "name": "stdout",
          "text": [
            "root\n",
            " |-- id: string (nullable = true)\n",
            " |-- date: date (nullable = true)\n",
            " |-- price: integer (nullable = true)\n",
            " |-- bedrooms: integer (nullable = true)\n",
            " |-- bathrooms: integer (nullable = true)\n",
            " |-- sqft_living: integer (nullable = true)\n",
            " |-- sqft_lot: integer (nullable = true)\n",
            " |-- floors: integer (nullable = true)\n",
            " |-- waterfront: integer (nullable = true)\n",
            " |-- view: integer (nullable = true)\n",
            " |-- date_built: integer (nullable = true)\n",
            "\n",
            "+--------------------+----------+------+--------+---------+-----------+--------+------+----------+----+----------+\n",
            "|                  id|      date| price|bedrooms|bathrooms|sqft_living|sqft_lot|floors|waterfront|view|date_built|\n",
            "+--------------------+----------+------+--------+---------+-----------+--------+------+----------+----+----------+\n",
            "|2ed8d509-7372-46d...|2021-08-06|258710|       3|        3|       1918|    9666|     1|         0|  25|      2015|\n",
            "|941bad30-eb49-4a7...|2020-05-09|229896|       3|        3|       2197|    8641|     1|         0|   3|      2015|\n",
            "|c797ca12-52cd-4b1...|2019-06-08|288650|       2|        3|       2100|   10419|     2|         0|   7|      2015|\n",
            "|0cfe57f3-28c2-472...|2019-10-04|308313|       3|        3|       1960|    9453|     2|         0|   2|      2015|\n",
            "|d715f295-2fbf-4e9...|2021-05-17|391574|       3|        2|       1635|    8040|     2|         0|  10|      2015|\n",
            "|a18515a2-86f3-46b...|2022-02-18|419543|       3|        2|       1642|   12826|     2|         0|  24|      2015|\n",
            "|98f6a9ad-8870-474...|2022-05-07|136752|       2|        3|       1701|   10771|     2|         0|   5|      2015|\n",
            "|7ac67498-b6f3-403...|2021-05-12|349318|       4|        3|       2417|   11304|     2|         0|  37|      2015|\n",
            "|c9bfdb1c-2499-4e3...|2021-12-07|268874|       2|        2|       1537|   12177|     1|         0|  10|      2015|\n",
            "|34c31a34-220d-469...|2019-02-06|409011|       3|        3|       2356|   10507|     1|         0|   1|      2015|\n",
            "|be0ccb95-415d-411...|2020-05-15|425154|       4|        3|       2120|   14229|     2|         0|   4|      2015|\n",
            "|e9031a86-1294-444...|2021-10-09|222322|       4|        3|       1928|   10510|     1|         0|  38|      2015|\n",
            "|e6d7c2a7-596e-4ec...|2019-03-15|131201|       4|        3|       1633|   14655|     1|         0|  22|      2015|\n",
            "|6683714b-3df7-454...|2022-02-01|333403|       4|        2|       2059|    9793|     2|         0|   4|      2015|\n",
            "|00fc996f-508c-430...|2021-07-15|373139|       3|        3|       1763|   11363|     1|         0|  39|      2015|\n",
            "|3d5545f8-bd3b-476...|2020-09-19|797862|       4|        6|       3494|   10385|     2|         0|  90|      2015|\n",
            "|ec6d357c-2435-43e...|2019-05-28|401792|       3|        2|       1627|   10765|     1|         0|  50|      2015|\n",
            "|c2be38fb-814a-403...|2020-03-20|352237|       3|        3|       2485|   10954|     2|         0|   6|      2015|\n",
            "|9570de1f-5a74-45b...|2021-11-29|298453|       3|        2|       2222|   10634|     1|         0|   6|      2015|\n",
            "|1baeff4f-fc00-489...|2020-12-17|152775|       3|        2|       1623|   13851|     1|         0|  41|      2015|\n",
            "+--------------------+----------+------+--------+---------+-----------+--------+------+----------+----+----------+\n",
            "only showing top 20 rows\n",
            "\n"
          ]
        }
      ],
      "source": [
        "# 11. Read the parquet formatted data.\n",
        "parquet_data = spark.read.parquet(\"path/to/partitioned_parquet_data\")\n",
        "\n",
        "# Show the schema of the DataFrame\n",
        "parquet_data.printSchema()\n",
        "\n",
        "# Display the first few rows of the DataFrame\n",
        "parquet_data.show()"
      ]
    },
    {
      "cell_type": "code",
      "execution_count": 19,
      "metadata": {
        "id": "J6MJkHfvVcvh"
      },
      "outputs": [],
      "source": [
        "# 12. Create a temporary table for the parquet data.\n",
        "parquet_data.createOrReplaceTempView(\"parquet_sales\")"
      ]
    },
    {
      "cell_type": "code",
      "execution_count": 20,
      "metadata": {
        "colab": {
          "base_uri": "https://localhost:8080/"
        },
        "id": "G_Vhb52rU1Sn",
        "outputId": "157cf738-9faa-4506-da6b-0e934155e397"
      },
      "outputs": [
        {
          "output_type": "stream",
          "name": "stdout",
          "text": [
            "+-----------+-------------+\n",
            "|View_Rating|Average_Price|\n",
            "+-----------+-------------+\n",
            "|         31|    399856.95|\n",
            "|         85|   1056336.74|\n",
            "|         65|    736679.93|\n",
            "|         53|     755214.8|\n",
            "|         78|   1080649.37|\n",
            "|         34|    401419.75|\n",
            "|         81|   1053472.79|\n",
            "|         28|    402124.62|\n",
            "|         76|   1058802.78|\n",
            "|         26|    401506.97|\n",
            "|         27|    399537.66|\n",
            "|         44|    400598.05|\n",
            "|         12|    401501.32|\n",
            "|         91|   1137372.73|\n",
            "|         22|    402022.68|\n",
            "|         93|   1026006.06|\n",
            "|         47|     398447.5|\n",
            "|          1|    401044.25|\n",
            "|         52|    733780.26|\n",
            "|         13|    398917.98|\n",
            "+-----------+-------------+\n",
            "only showing top 20 rows\n",
            "\n",
            "--- 0.9804155826568604 seconds ---\n"
          ]
        }
      ],
      "source": [
        "# 13. Run the query that filters out the view ratings with average price of greater than or equal to $350,000\n",
        "# with the parquet DataFrame. Round your average to two decimal places.\n",
        "# Determine the runtime and compare it to the cached version.\n",
        "\n",
        "start_time = time.time()\n",
        "\n",
        "result_parquet = spark.sql(\"\"\"\n",
        "    SELECT view AS View_Rating, ROUND(AVG(price), 2) AS Average_Price\n",
        "    FROM parquet_sales\n",
        "    WHERE price >= 350000\n",
        "    GROUP BY view\n",
        "\"\"\")\n",
        "\n",
        "# Show the result\n",
        "result_parquet.show()\n",
        "\n",
        "\n",
        "print(\"--- %s seconds ---\" % (time.time() - start_time))"
      ]
    },
    {
      "cell_type": "code",
      "execution_count": 21,
      "metadata": {
        "id": "hjjYzQGjtbq8"
      },
      "outputs": [],
      "source": [
        "# 14. Uncache the home_sales temporary table.\n",
        "spark.catalog.uncacheTable(\"home_sales\")"
      ]
    },
    {
      "cell_type": "code",
      "execution_count": 22,
      "metadata": {
        "id": "Sy9NBvO7tlmm",
        "colab": {
          "base_uri": "https://localhost:8080/"
        },
        "outputId": "765e8dcb-0ca5-4c03-ff9d-09535c373b20"
      },
      "outputs": [
        {
          "output_type": "stream",
          "name": "stdout",
          "text": [
            "The home_sales temporary table is no longer cached.\n"
          ]
        }
      ],
      "source": [
        "# 15. Check if the home_sales is no longer cached\n",
        "\n",
        "is_cached = spark.catalog.isCached(\"home_sales\")\n",
        "\n",
        "# Print the result\n",
        "if is_cached:\n",
        "    print(\"The home_sales temporary table is still cached.\")\n",
        "else:\n",
        "    print(\"The home_sales temporary table is no longer cached.\")\n"
      ]
    },
    {
      "cell_type": "code",
      "execution_count": null,
      "metadata": {
        "id": "Si-BNruRUGK3"
      },
      "outputs": [],
      "source": []
    }
  ],
  "metadata": {
    "colab": {
      "provenance": [],
      "include_colab_link": true
    },
    "gpuClass": "standard",
    "kernelspec": {
      "display_name": "Python 3 (ipykernel)",
      "language": "python",
      "name": "python3"
    },
    "language_info": {
      "codemirror_mode": {
        "name": "ipython",
        "version": 3
      },
      "file_extension": ".py",
      "mimetype": "text/x-python",
      "name": "python",
      "nbconvert_exporter": "python",
      "pygments_lexer": "ipython3",
      "version": "3.10.4"
    },
    "nteract": {
      "version": "0.28.0"
    }
  },
  "nbformat": 4,
  "nbformat_minor": 0
}